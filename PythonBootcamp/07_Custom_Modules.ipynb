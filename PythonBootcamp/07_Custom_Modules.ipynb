{
 "cells": [
  {
   "cell_type": "markdown",
   "metadata": {},
   "source": [
    "<img src=\"support_files/images/cropped-SummerWorkshop_Header.png\">  \n",
    "\n",
    "<h1 align=\"center\">Python Bootcamp</h1> \n",
    "<h3 align=\"center\">August 20-21, 2022</h3> "
   ]
  },
  {
   "cell_type": "markdown",
   "metadata": {
    "collapsed": true
   },
   "source": [
    "<div style=\"border-left: 3px solid #000; padding: 1px; padding-left: 10px; background: #F0FAFF; \">\n",
    "<center><h1>Custom Modules</h1></center>\n",
    "\n",
    "<p>We have seen that new functinoality in Python can be encapsulated as a <i>module</i>, and that we can import modules into our own code. In this section we will create a new Python module. \n",
    "\n",
    "- Important because encapsulating functions makes them <i>reusable</i>. We will use this mechanism to develop tools that we can share with each other during the course. We'll discuss more on how to share code during the main course.\n",
    "\n",
    "</div>"
   ]
  },
  {
   "cell_type": "markdown",
   "metadata": {
    "collapsed": true
   },
   "source": [
    "<div style=\"border-left: 3px solid #000; padding: 1px; padding-left: 10px; background: #F0FAFF; \">\n",
    "Let's begin by making a simple module. For now, it will contain just one function we can use to downsample time-series data.\n",
    "</div>"
   ]
  },
  {
   "cell_type": "code",
   "execution_count": null,
   "metadata": {},
   "outputs": [],
   "source": [
    "%load_ext autoreload\n",
    "%autoreload 2"
   ]
  },
  {
   "cell_type": "code",
   "execution_count": 3,
   "metadata": {},
   "outputs": [],
   "source": [
    "# here is the code we'd like to include in the module:\n",
    "\n",
    "import numpy as np\n",
    "\n",
    "def downsample(data, n, axis=0):\n",
    "    \"\"\"Reduce the number of samples in an array by averaging together\n",
    "    n samples at a time.\n",
    "    \"\"\"\n",
    "    if n <= 1:\n",
    "        return data\n",
    "    new_len = data.shape[axis] // n\n",
    "    s = list(data.shape)\n",
    "    s[axis] = new_len\n",
    "    s.insert(axis+1, n)\n",
    "    sl = [slice(None)] * data.ndim\n",
    "    sl[axis] = slice(0, new_len*n)\n",
    "    d1 = data[tuple(sl)]\n",
    "    d1.shape = tuple(s)\n",
    "    d2 = d1.mean(axis+1)\n",
    "    return d2"
   ]
  },
  {
   "cell_type": "markdown",
   "metadata": {
    "collapsed": true
   },
   "source": [
    "<div style=\"border-left: 3px solid #000; padding: 1px; padding-left: 10px; background: #F0FAFF; \">\n",
    "Just so we understand what this function does, let's generate a noisy time-series signal and plot it:\n",
    "</div>"
   ]
  },
  {
   "cell_type": "code",
   "execution_count": 4,
   "metadata": {
    "scrolled": true
   },
   "outputs": [
    {
     "data": {
      "text/plain": [
       "(-20.0, 20.0)"
      ]
     },
     "execution_count": 4,
     "metadata": {},
     "output_type": "execute_result"
    },
    {
     "data": {
      "image/png": "[encoded data removed]",
      "text/plain": [
       "<Figure size 432x288 with 1 Axes>"
      ]
     },
     "metadata": {
      "needs_background": "light"
     },
     "output_type": "display_data"
    }
   ],
   "source": [
    "import matplotlib.pyplot as plt\n",
    "%matplotlib inline\n",
    "\n",
    "t = np.linspace(0, 10, 10000)\n",
    "data = np.sin(t) + 5 * np.random.normal(size=len(t))\n",
    "plt.plot(t, data)\n",
    "plt.ylim(-20, 20)"
   ]
  },
  {
   "cell_type": "markdown",
   "metadata": {
    "collapsed": true
   },
   "source": [
    "<div style=\"border-left: 3px solid #000; padding: 1px; padding-left: 10px; background: #F0FAFF; \">\n",
    "And this is what the same signal looks like after it has been downsampled. Note that the downsampled signal has many fewer samples, and the overall noise is much smaller.\n",
    "</div>"
   ]
  },
  {
   "cell_type": "code",
   "execution_count": 5,
   "metadata": {
    "scrolled": true
   },
   "outputs": [
    {
     "data": {
      "text/plain": [
       "(-20.0, 20.0)"
      ]
     },
     "execution_count": 5,
     "metadata": {},
     "output_type": "execute_result"
    },
    {
     "data": {
      "image/png": "[encoded data removed]",
      "text/plain": [
       "<Figure size 432x288 with 1 Axes>"
      ]
     },
     "metadata": {
      "needs_background": "light"
     },
     "output_type": "display_data"
    }
   ],
   "source": [
    "ds_data = downsample(data, 200)\n",
    "plt.plot(t[::200], ds_data)\n",
    "plt.ylim(-20, 20)"
   ]
  },
  {
   "cell_type": "markdown",
   "metadata": {
    "collapsed": true
   },
   "source": [
    "<div style=\"border-left: 3px solid #000; padding: 1px; padding-left: 10px; background: #F0FAFF; \">\n",
    "Just to reiterate: We have created a useful function, and now we would like to encapsulate it into a module so that\n",
    "\n",
    "<ul>\n",
    "<li>We can re-use this function in many different places without copying it, and\n",
    "<li>We can share this function with other people.\n",
    "</ul>\n",
    "\n",
    "<br>\n",
    "<hr>\n",
    "\n",
    "Here's how to turn this code into a module:\n",
    "<ol>\n",
    "<li>Open a code editor and paste in the definition of `downsample()` given above, including the `import numpy` statement.\n",
    "<li>Save the file as `my_module.py` in the same location as this notebook.\n",
    "</ol>\n",
    "<br>\n",
    "You're done!<br>\n",
    "\n",
    "Now let's see if it works:\n",
    "\n",
    "</div>"
   ]
  },
  {
   "cell_type": "code",
   "execution_count": 6,
   "metadata": {},
   "outputs": [
    {
     "ename": "ModuleNotFoundError",
     "evalue": "No module named 'my_module'",
     "output_type": "error",
     "traceback": [
      "\u001b[0;31m---------------------------------------------------------------------------\u001b[0m",
      "\u001b[0;31mModuleNotFoundError\u001b[0m                       Traceback (most recent call last)",
      "Input \u001b[0;32mIn [6]\u001b[0m, in \u001b[0;36m<cell line: 6>\u001b[0;34m()\u001b[0m\n\u001b[1;32m      3\u001b[0m     \u001b[38;5;28;01mdel\u001b[39;00m downsample\n\u001b[1;32m      5\u001b[0m \u001b[38;5;66;03m# Import the new definition of `downsample` from your module\u001b[39;00m\n\u001b[0;32m----> 6\u001b[0m \u001b[38;5;28;01mfrom\u001b[39;00m \u001b[38;5;21;01mmy_module\u001b[39;00m \u001b[38;5;28;01mimport\u001b[39;00m downsample\n",
      "\u001b[0;31mModuleNotFoundError\u001b[0m: No module named 'my_module'"
     ]
    }
   ],
   "source": [
    "# Remove the old downsample (so you can't cheat!)\n",
    "if 'downsample' in locals():\n",
    "    del downsample\n",
    "\n",
    "# Import the new definition of `downsample` from your module\n",
    "from my_module import downsample\n",
    "\n",
    "# If you get \"ImportError: No module named my_module\", then make sure\n",
    "# the .py file was saved in the same folder as this notebook file."
   ]
  },
  {
   "cell_type": "code",
   "execution_count": 7,
   "metadata": {},
   "outputs": [
    {
     "data": {
      "text/plain": [
       "(-20.0, 20.0)"
      ]
     },
     "execution_count": 7,
     "metadata": {},
     "output_type": "execute_result"
    },
    {
     "data": {
      "image/png": "[encoded data removed]",
      "text/plain": [
       "<Figure size 432x288 with 1 Axes>"
      ]
     },
     "metadata": {
      "needs_background": "light"
     },
     "output_type": "display_data"
    }
   ],
   "source": [
    "# test again:\n",
    "ds_data = downsample(data, 200)\n",
    "plt.plot(t[::200], ds_data)\n",
    "plt.ylim(-20, 20)"
   ]
  },
  {
   "cell_type": "markdown",
   "metadata": {
    "collapsed": true
   },
   "source": [
    "<div style=\"border-left: 3px solid #000; padding: 1px; padding-left: 10px; background: #F0FAFF; \">\n",
    "Good so far, but there are some issues with this approach:\n",
    "\n",
    "<ul>\n",
    "<li>As our code becomes more complex, we will often want to organize it into multiple files and make them all appear as a single importable module.\n",
    "<li>If we distribute this code, we will at least want to include a README to explain what it's about, so I'd really like my module to live inside its own folder.\n",
    "</ul>\n",
    "\n",
    "<hr>\n",
    "So now we are going to turn this module into a <i>package</i>, which is really just a collection of modules inside a folder, along with some Python glue.\n",
    "<ol>\n",
    "<li>Make a new folder, in the same location as this notebook, called `my_package`\n",
    "<li>Move `my_module.py` into this new folder\n",
    "<li>Create an empty text file called `__init__.py` inside `my_package`. (note the double underscores)\n",
    "</ol>\n",
    "<br>\n",
    "The `__init__.py` file is a hint to Python that tells it \"this folder is a package that can be imported\".\n",
    "\n",
    "<hr>\n",
    "Now let's try importing from the new package:\n",
    "\n",
    "</div>"
   ]
  },
  {
   "cell_type": "code",
   "execution_count": 7,
   "metadata": {},
   "outputs": [],
   "source": [
    "# Remove the old downsample (so you can't cheat!)\n",
    "if 'downsample' in locals():\n",
    "    del downsample\n",
    "\n",
    "# Import downsample from our shiny new package\n",
    "from my_package.my_module import downsample"
   ]
  },
  {
   "cell_type": "code",
   "execution_count": 8,
   "metadata": {
    "scrolled": true
   },
   "outputs": [
    {
     "data": {
      "text/plain": [
       "(-20.0, 20.0)"
      ]
     },
     "execution_count": 8,
     "metadata": {},
     "output_type": "execute_result"
    },
    {
     "data": {
      "image/png": "[encoded data removed]",
      "text/plain": [
       "<Figure size 432x288 with 1 Axes>"
      ]
     },
     "metadata": {
      "needs_background": "light"
     },
     "output_type": "display_data"
    }
   ],
   "source": [
    "# test again:\n",
    "ds_data = downsample(data, 200)\n",
    "plt.plot(t[::200], ds_data)\n",
    "plt.ylim(-20, 20)"
   ]
  },
  {
   "cell_type": "markdown",
   "metadata": {},
   "source": [
    "<div style=\"border-left: 3px solid #000; padding: 1px; padding-left: 10px; background: #F0FAFF; \">\n",
    "<h3>A note about namespaces</h3>\n",
    "\n",
    "<p>Each python <i>file</i> that you work with has its own isolated namespace. That means we could write `x=1` inside the module, and `x=2` inside this notebook, and the two names will <i>not</i> collide; each `x` variable lives in a different namespace. `import` statements are how we create a reference from one module's namespace into another.\n",
    "\n",
    "</div>"
   ]
  },
  {
   "cell_type": "code",
   "execution_count": 9,
   "metadata": {
    "scrolled": true
   },
   "outputs": [
    {
     "data": {
      "text/plain": [
       "['__builtins__',\n",
       " '__cached__',\n",
       " '__doc__',\n",
       " '__file__',\n",
       " '__loader__',\n",
       " '__name__',\n",
       " '__package__',\n",
       " '__path__',\n",
       " '__spec__',\n",
       " 'my_module']"
      ]
     },
     "execution_count": 9,
     "metadata": {},
     "output_type": "execute_result"
    }
   ],
   "source": [
    "import my_package.my_module\n",
    "\n",
    "# my_package contains a namespace with the variable \"my_module\"\n",
    "dir(my_package)"
   ]
  },
  {
   "cell_type": "code",
   "execution_count": 10,
   "metadata": {
    "scrolled": true
   },
   "outputs": [
    {
     "data": {
      "text/plain": [
       "['__builtins__',\n",
       " '__cached__',\n",
       " '__doc__',\n",
       " '__file__',\n",
       " '__loader__',\n",
       " '__name__',\n",
       " '__package__',\n",
       " '__spec__',\n",
       " 'downsample',\n",
       " 'np']"
      ]
     },
     "execution_count": 10,
     "metadata": {},
     "output_type": "execute_result"
    }
   ],
   "source": [
    "# my_module contains its own namespace where the \"downsample\" function is defined and numpy has been imported\n",
    "dir(my_package.my_module)"
   ]
  },
  {
   "cell_type": "code",
   "execution_count": 11,
   "metadata": {},
   "outputs": [
    {
     "data": {
      "text/plain": [
       "['In',\n",
       " 'Out',\n",
       " '_',\n",
       " '_10',\n",
       " '_4',\n",
       " '_5',\n",
       " '_8',\n",
       " '_9',\n",
       " '__',\n",
       " '___',\n",
       " '__builtin__',\n",
       " '__builtins__',\n",
       " '__doc__',\n",
       " '__loader__',\n",
       " '__name__',\n",
       " '__package__',\n",
       " '__spec__',\n",
       " '_dh',\n",
       " '_i',\n",
       " '_i1',\n",
       " '_i10',\n",
       " '_i11',\n",
       " '_i2',\n",
       " '_i3',\n",
       " '_i4',\n",
       " '_i5',\n",
       " '_i6',\n",
       " '_i7',\n",
       " '_i8',\n",
       " '_i9',\n",
       " '_ih',\n",
       " '_ii',\n",
       " '_iii',\n",
       " '_oh',\n",
       " 'data',\n",
       " 'downsample',\n",
       " 'ds_data',\n",
       " 'exit',\n",
       " 'get_ipython',\n",
       " 'my_package',\n",
       " 'np',\n",
       " 'plt',\n",
       " 'quit',\n",
       " 't']"
      ]
     },
     "execution_count": 11,
     "metadata": {},
     "output_type": "execute_result"
    }
   ],
   "source": [
    "# The notebook we are working in contains its own namespace, which includes the name \"my_package\",\n",
    "# amongst others.\n",
    "dir()"
   ]
  },
  {
   "cell_type": "markdown",
   "metadata": {},
   "source": [
    "<div style=\"border-left: 3px solid #000; padding: 1px; padding-left: 10px; background: #F0FAFF; \">\n",
    "Remember to write useful help messages in the function docstring. Other users can easily access it using python's help method.\n",
    "</div>"
   ]
  },
  {
   "cell_type": "code",
   "execution_count": 12,
   "metadata": {},
   "outputs": [
    {
     "name": "stdout",
     "output_type": "stream",
     "text": [
      "Help on function downsample in module my_package.my_module:\n",
      "\n",
      "downsample(data, n, axis=0)\n",
      "    Reduce the number of samples in an array by averaging together\n",
      "    n samples at a time.\n",
      "\n"
     ]
    }
   ],
   "source": [
    "help(my_package.my_module.downsample)"
   ]
  },
  {
   "cell_type": "markdown",
   "metadata": {},
   "source": [
    "<div style=\"border-left: 3px solid #000; padding: 1px; padding-left: 10px; background: #F0FAFF; \">\n",
    "You can also access the docstrings on a module level.\n",
    "</div>"
   ]
  },
  {
   "cell_type": "code",
   "execution_count": 13,
   "metadata": {},
   "outputs": [
    {
     "name": "stdout",
     "output_type": "stream",
     "text": [
      "Help on module my_package.my_module in my_package:\n",
      "\n",
      "NAME\n",
      "    my_package.my_module - # here is the code we'd like to include in the module:\n",
      "\n",
      "FUNCTIONS\n",
      "    downsample(data, n, axis=0)\n",
      "        Reduce the number of samples in an array by averaging together\n",
      "        n samples at a time.\n",
      "\n",
      "FILE\n",
      "    /Volumes/Brain2022/swdb_2022/PythonBootcamp/my_package/my_module.py\n",
      "\n",
      "\n"
     ]
    }
   ],
   "source": [
    "help(my_package.my_module)"
   ]
  },
  {
   "cell_type": "code",
   "execution_count": null,
   "metadata": {},
   "outputs": [],
   "source": []
  }
 ],
 "metadata": {
  "kernelspec": {
   "display_name": "Python 3 (ipykernel)",
   "language": "python",
   "name": "python3"
  },
  "language_info": {
   "codemirror_mode": {
    "name": "ipython",
    "version": 3
   },
   "file_extension": ".py",
   "mimetype": "text/x-python",
   "name": "python",
   "nbconvert_exporter": "python",
   "pygments_lexer": "ipython3",
   "version": "3.9.12"
  }
 },
 "nbformat": 4,
 "nbformat_minor": 1
}
