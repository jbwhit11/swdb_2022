{
 "cells": [
  {
   "cell_type": "markdown",
   "metadata": {},
   "source": [
    "\n",
    "<img src=\"../resources/cropped-SummerWorkshop_Header.png\">  \n",
    "\n",
    "<h1 align=\"center\">EM Connectomics - Question 2</h1> \n",
    "<h2 align=\"center\">Summer Workshop on the Dynamic Brain </h2> \n",
    "<h3 align=\"center\">Monday, August 29, 2022</h3> \n",
    "\n",
    "<div style=\"border-left: 3px solid #000; padding: 1px; padding-left: 10px; background: #F0FAFF; \">\n",
    "\n",
    "\n",
    "</div>\n",
    "\n"
   ]
  },
  {
   "cell_type": "markdown",
   "metadata": {},
   "source": [
    "<div style=\"border-left: 3px solid #000; padding: 1px; padding-left: 10px; background: #F0FAFF; \">\n",
    "    <p><b>Task 2:</b> This question looks at the mapping what fraction of synapses map to cells inhibitory or excitatory cells.\n",
    "</div>"
   ]
  },
  {
   "cell_type": "markdown",
   "metadata": {},
   "source": [
    "<div style=\"background: #DFF0D8; border-radius: 3px; padding: 10px;\">\n",
    "<p><b>Task 2.1:</b> Import the key modules and set parameters\n",
    "\n",
    "</div>"
   ]
  },
  {
   "cell_type": "code",
   "execution_count": null,
   "metadata": {},
   "outputs": [],
   "source": [
    "# Import modules\n",
    "\n",
    "# Initialize a client for the \"minnie65_public_v343\" datastack."
   ]
  },
  {
   "cell_type": "code",
   "execution_count": 2,
   "metadata": {},
   "outputs": [],
   "source": [
    "# Import modules\n",
    "import platform\n",
    "import os\n",
    "\n",
    "platstring = platform.platform()\n",
    "if ('Darwin' in platstring) or ('macOS' in platstring):\n",
    "    # macOS \n",
    "    data_root = \"/Volumes/Brain2022/em-connectomics\"\n",
    "elif 'Windows'  in platstring:\n",
    "    # Windows (replace with the drive letter of USB drive)\n",
    "    data_root = \"E:/em-connectomics\"\n",
    "elif ('amzn' in platstring):\n",
    "    # then on AWS\n",
    "    data_root = \"/data/em-connectomics-data/\"\n",
    "else:\n",
    "    # then your own linux platform\n",
    "    # EDIT location where you mounted hard drive\n",
    "    data_root = \"/media/$USERNAME/Brain2022/em-connectomics\"\n",
    "    \n",
    "# OR if you'd like to override the auto options\n",
    "# data_root = \"./proofread_skeletons/\"\n",
    "\n",
    "import pandas as pd\n",
    "import numpy as np\n",
    "import os\n",
    "import matplotlib.pyplot as plt\n",
    "%matplotlib widget"
   ]
  },
  {
   "cell_type": "code",
   "execution_count": 3,
   "metadata": {},
   "outputs": [],
   "source": [
    "# Initialize a client for the \"minnie65_public_v343\" datastack.\n",
    "from caveclient import CAVEclient\n",
    "datastack_name = 'minnie65_public_v343'\n",
    "client = CAVEclient(datastack_name)"
   ]
  },
  {
   "cell_type": "markdown",
   "metadata": {},
   "source": [
    "<div style=\"background: #DFF0D8; border-radius: 3px; padding: 10px;\">\n",
    "    <p><b> Task 2.2: </b> How many nuclei are there per root_id?\n",
    "        </div>\n"
   ]
  },
  {
   "cell_type": "code",
   "execution_count": 1,
   "metadata": {},
   "outputs": [],
   "source": [
    "# get all the nuclei that are neurons"
   ]
  },
  {
   "cell_type": "code",
   "execution_count": 4,
   "metadata": {},
   "outputs": [
    {
     "data": {
      "text/plain": [
       "['synapses_pni_2',\n",
       " 'nucleus_neuron_svm',\n",
       " 'nucleus_detection_v0',\n",
       " 'functional_coreg',\n",
       " 'allen_v1_column_types_slanted',\n",
       " 'aibs_column_nonneuronal',\n",
       " 'func_unit_em_match_release',\n",
       " 'proofreading_status_public_release',\n",
       " 'aibs_soma_nuc_metamodel_preds_v117']"
      ]
     },
     "execution_count": 4,
     "metadata": {},
     "output_type": "execute_result"
    }
   ],
   "source": [
    "client.materialize.get_tables()"
   ]
  },
  {
   "cell_type": "code",
   "execution_count": 12,
   "metadata": {},
   "outputs": [],
   "source": [
    "nuc_neuron_table = client.materialize.query_table('nucleus_neuron_svm')"
   ]
  },
  {
   "cell_type": "code",
   "execution_count": 15,
   "metadata": {},
   "outputs": [
    {
     "data": {
      "text/plain": [
       "Index(['id', 'valid', 'classification_system', 'cell_type', 'pt_supervoxel_id',\n",
       "       'pt_root_id', 'pt_position'],\n",
       "      dtype='object')"
      ]
     },
     "execution_count": 15,
     "metadata": {},
     "output_type": "execute_result"
    }
   ],
   "source": [
    "nuc_neuron_table.columns"
   ]
  },
  {
   "cell_type": "code",
   "execution_count": 6,
   "metadata": {},
   "outputs": [],
   "source": [
    "# get all the nuclei that are neurons\n",
    "nuc_neurons = client.materialize.query_table('nucleus_neuron_svm',\n",
    "                                             filter_equal_dict={'cell_type':'neuron'})"
   ]
  },
  {
   "cell_type": "code",
   "execution_count": null,
   "metadata": {},
   "outputs": [],
   "source": [
    "# Use pandas to make a new dataframe of how many times does a root id appears in the table.\n",
    "# it should have two columns, root_ids/seg_ids and number_of_nuclei (call them what you want)\n",
    "# each row is a rootID.\n",
    "# Since each row is a nucleus, this effectively counts the number of neuronal somata.\n"
   ]
  },
  {
   "cell_type": "code",
   "execution_count": null,
   "metadata": {},
   "outputs": [],
   "source": [
    "# make a histogram of the number of neuron nuclei per rootID\n",
    "# use bins 0,1,2,3,4,5,6,7,8,9,10"
   ]
  },
  {
   "cell_type": "markdown",
   "metadata": {},
   "source": [
    "<div style=\"background: #DFF0D8; border-radius: 3px; padding: 10px;\">\n",
    "    <p><b> Task 2.3:</b> Pick a neuron with a clean or extended axon and get it's outputs\n",
    "      </div>"
   ]
  },
  {
   "cell_type": "code",
   "execution_count": null,
   "metadata": {},
   "outputs": [],
   "source": []
  },
  {
   "cell_type": "markdown",
   "metadata": {},
   "source": [
    "<div style=\"background: #DFF0D8; border-radius: 3px; padding: 10px;\">\n",
    "    <p><b> Task 2.3: </b> Which of the synapses from this cell map to IDs which have just one neuron nucleus?\n",
    "        </div>\n"
   ]
  },
  {
   "cell_type": "code",
   "execution_count": 4,
   "metadata": {},
   "outputs": [],
   "source": [
    "\n",
    "# merge the synapse table with your table of root_ids and how many nuclei they have\n",
    "# to gather information about how many nuclei are associated with the post-synaptic segment\n",
    "# feel free to drop all the rows that don't have entries in the nucleus table for now"
   ]
  },
  {
   "cell_type": "code",
   "execution_count": 3,
   "metadata": {},
   "outputs": [],
   "source": [
    "# use the cell type prediction table to get a list of predictions about cell types\n",
    "\n",
    "# for the single nucleus synapses, merge in the cell type predictions.\n",
    "# use 'left'/'right' join to keep a row for every synapse\n",
    "\n",
    "# check to make sure you only have 1 row per synapseID afterwards"
   ]
  },
  {
   "cell_type": "code",
   "execution_count": 14,
   "metadata": {},
   "outputs": [],
   "source": [
    "# Make a histogram of how this cell distributes it's synapses over cell types\n",
    "\n",
    "\n"
   ]
  },
  {
   "cell_type": "code",
   "execution_count": 4,
   "metadata": {},
   "outputs": [],
   "source": [
    "# how many synapses do you not know what cell type is on the post-synaptic side?\n"
   ]
  }
 ],
 "metadata": {
  "kernelspec": {
   "display_name": "Python 3 (ipykernel)",
   "language": "python",
   "name": "python3"
  },
  "language_info": {
   "codemirror_mode": {
    "name": "ipython",
    "version": 3
   },
   "file_extension": ".py",
   "mimetype": "text/x-python",
   "name": "python",
   "nbconvert_exporter": "python",
   "pygments_lexer": "ipython3",
   "version": "3.8.10"
  },
  "vscode": {
   "interpreter": {
    "hash": "6348add125c5400b441ebe6e2f6837b450806cc742b4da300b670773e8110c2d"
   }
  }
 },
 "nbformat": 4,
 "nbformat_minor": 2
}
